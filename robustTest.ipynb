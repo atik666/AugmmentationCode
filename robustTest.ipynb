{
  "nbformat": 4,
  "nbformat_minor": 0,
  "metadata": {
    "colab": {
      "name": "robustTest.ipynb",
      "provenance": [],
      "collapsed_sections": [],
      "mount_file_id": "15jVz4L1ukVRPLPxv992wM3XGNpEXMg7y",
      "authorship_tag": "ABX9TyNuWLxVbqbNBhAshU75nHpj",
      "include_colab_link": true
    },
    "kernelspec": {
      "name": "python3",
      "display_name": "Python 3"
    },
    "language_info": {
      "name": "python"
    },
    "accelerator": "GPU"
  },
  "cells": [
    {
      "cell_type": "markdown",
      "metadata": {
        "id": "view-in-github",
        "colab_type": "text"
      },
      "source": [
        "<a href=\"https://colab.research.google.com/github/atik666/AugmmentationCode/blob/TransferLearning/robustTest.ipynb\" target=\"_parent\"><img src=\"https://colab.research.google.com/assets/colab-badge.svg\" alt=\"Open In Colab\"/></a>"
      ]
    },
    {
      "cell_type": "code",
      "metadata": {
        "colab": {
          "base_uri": "https://localhost:8080/"
        },
        "id": "wYnfgpoPaIFB",
        "outputId": "93034512-4d15-483d-cc7e-e2c05677ab0d"
      },
      "source": [
        "from google.colab import drive\n",
        "drive.mount('/content/drive')"
      ],
      "execution_count": 1,
      "outputs": [
        {
          "output_type": "stream",
          "text": [
            "Drive already mounted at /content/drive; to attempt to forcibly remount, call drive.mount(\"/content/drive\", force_remount=True).\n"
          ],
          "name": "stdout"
        }
      ]
    },
    {
      "cell_type": "code",
      "metadata": {
        "id": "Z7Fb9UQNaQgM"
      },
      "source": [
        "from tensorflow import keras\n",
        "from keras.preprocessing.image import load_img, ImageDataGenerator, img_to_array\n",
        "import tensorflow as tf\n",
        "import tensorflow_hub as hub\n",
        "from tensorflow.keras.callbacks import EarlyStopping,ModelCheckpoint\n",
        "from matplotlib import pyplot as plt\n",
        "import numpy as np"
      ],
      "execution_count": 2,
      "outputs": []
    },
    {
      "cell_type": "code",
      "metadata": {
        "id": "5bGFlmnFaVXT"
      },
      "source": [
        "X_train1 = np.load(\"/content/drive/MyDrive/Colab/Main/X_train1.npy\")\n",
        "y_train1 = np.load(\"/content/drive/MyDrive/Colab/Main/y_train1.npy\")\n",
        "X_train2 = np.load(\"/content/drive/MyDrive/Colab/Aug/Gan_X_train.npy\")\n",
        "y_train2 = np.load(\"/content/drive/MyDrive/Colab/Aug/Gan_y_train.npy\")\n"
      ],
      "execution_count": 4,
      "outputs": []
    },
    {
      "cell_type": "code",
      "metadata": {
        "colab": {
          "base_uri": "https://localhost:8080/"
        },
        "id": "9SJH5WeCJ46z",
        "outputId": "c51126f6-d872-4085-b2d2-b6744cea5f04"
      },
      "source": [
        "X_train = np.concatenate((X_train1, X_train2))\n",
        "y_train = np.concatenate((y_train1, y_train2))\n",
        "\n",
        "print('Number of images in X_train', X_train.shape[0])\n",
        "print('Number of labels in y_train', y_train.shape[0])"
      ],
      "execution_count": 5,
      "outputs": [
        {
          "output_type": "stream",
          "text": [
            "Number of images in X_train 2000\n",
            "Number of labels in y_train 2000\n"
          ],
          "name": "stdout"
        }
      ]
    },
    {
      "cell_type": "code",
      "metadata": {
        "id": "7-vm8UEOajN8"
      },
      "source": [
        "IMAGE_SHAPE = (224, 224, 3)\n",
        "      \n",
        "model_name = \"inception_v3\"\n",
        "feature_extractor_model=\"https://tfhub.dev/google/tf2-preview/%s/feature_vector/4\" %model_name\n",
        "\n",
        "pretrained_model_without_top_layer = hub.KerasLayer(\n",
        "    feature_extractor_model, input_shape=IMAGE_SHAPE, trainable=False)\n",
        "       \n",
        "num_class = 10"
      ],
      "execution_count": 6,
      "outputs": []
    },
    {
      "cell_type": "code",
      "metadata": {
        "colab": {
          "base_uri": "https://localhost:8080/"
        },
        "id": "2b9ANCeeaoj7",
        "outputId": "5d022b03-b677-4036-d1a6-eb8f46f566e1"
      },
      "source": [
        "model = tf.keras.Sequential([\n",
        "  pretrained_model_without_top_layer,\n",
        "  tf.keras.layers.Dense(num_class)\n",
        "])\n",
        "\n",
        "model.summary()          \n",
        "         \n",
        "model.compile(\n",
        "  optimizer=\"adam\",\n",
        "  loss=tf.keras.losses.SparseCategoricalCrossentropy(from_logits=True),\n",
        "  metrics=['accuracy'])\n",
        "     \n",
        "# Train your model using the early stopping callback\n",
        "model.fit(X_train, y_train, batch_size = 32, epochs = 50)"
      ],
      "execution_count": null,
      "outputs": [
        {
          "output_type": "stream",
          "text": [
            "Model: \"sequential\"\n",
            "_________________________________________________________________\n",
            "Layer (type)                 Output Shape              Param #   \n",
            "=================================================================\n",
            "keras_layer (KerasLayer)     (None, 2048)              21802784  \n",
            "_________________________________________________________________\n",
            "dense (Dense)                (None, 10)                20490     \n",
            "=================================================================\n",
            "Total params: 21,823,274\n",
            "Trainable params: 20,490\n",
            "Non-trainable params: 21,802,784\n",
            "_________________________________________________________________\n",
            "Epoch 1/50\n",
            "63/63 [==============================] - 37s 92ms/step - loss: 1.2868 - accuracy: 0.5885\n",
            "Epoch 2/50\n",
            "63/63 [==============================] - 5s 77ms/step - loss: 0.6061 - accuracy: 0.8100\n",
            "Epoch 3/50\n",
            "63/63 [==============================] - 5s 78ms/step - loss: 0.4497 - accuracy: 0.8705\n",
            "Epoch 4/50\n",
            "63/63 [==============================] - 5s 79ms/step - loss: 0.3693 - accuracy: 0.8945\n",
            "Epoch 5/50\n",
            "63/63 [==============================] - 5s 78ms/step - loss: 0.3159 - accuracy: 0.9160\n",
            "Epoch 6/50\n",
            "63/63 [==============================] - 5s 78ms/step - loss: 0.2797 - accuracy: 0.9300\n",
            "Epoch 7/50\n",
            "63/63 [==============================] - 5s 77ms/step - loss: 0.2630 - accuracy: 0.9240\n",
            "Epoch 8/50\n",
            "63/63 [==============================] - 5s 77ms/step - loss: 0.2256 - accuracy: 0.9415\n",
            "Epoch 9/50\n",
            "63/63 [==============================] - 5s 76ms/step - loss: 0.2180 - accuracy: 0.9450\n",
            "Epoch 10/50\n",
            "63/63 [==============================] - 5s 76ms/step - loss: 0.1925 - accuracy: 0.9505\n",
            "Epoch 11/50\n",
            "63/63 [==============================] - 5s 76ms/step - loss: 0.1787 - accuracy: 0.9575\n",
            "Epoch 12/50\n",
            "23/63 [=========>....................] - ETA: 3s - loss: 0.1748 - accuracy: 0.9565"
          ],
          "name": "stdout"
        }
      ]
    },
    {
      "cell_type": "code",
      "metadata": {
        "id": "fGUPs4BcdnA8"
      },
      "source": [
        "# load = 1\n",
        "# X_test = np.load(\"/content/drive/MyDrive/Colab/%sTest/%sX_test.npy\" %(load, load))\n",
        "# y_test = np.load(\"/content/drive/MyDrive/Colab/%sTest/%sy_test.npy\" %(load, load))\n",
        "\n",
        "#SNR Test\n",
        "snr = 10\n",
        "X_test = np.load(\"/content/drive/MyDrive/Colab/SNR_Test/%sX_test.npy\" %snr)\n",
        "y_test = np.load(\"/content/drive/MyDrive/Colab/SNR_Test/%sy_test.npy\" %snr)\n",
        "\n",
        "loss, acc= model.evaluate(X_test, y_test)\n",
        "print('Test Accuracy: %f' % (acc*100))\n",
        "\n",
        "from sklearn.metrics import confusion_matrix\n",
        "y_pred = model.predict(X_test)\n",
        "y_pred = np.argmax(y_pred, axis=1)\n",
        "conf = confusion_matrix(y_test, y_pred)\n",
        "print(conf)\n",
        "print('acc : ', np.trace(conf)/np.sum(conf)*100)"
      ],
      "execution_count": null,
      "outputs": []
    }
  ]
}
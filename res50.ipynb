{
  "nbformat": 4,
  "nbformat_minor": 0,
  "metadata": {
    "colab": {
      "name": "res50.ipynb",
      "provenance": [],
      "collapsed_sections": [],
      "include_colab_link": true
    },
    "kernelspec": {
      "name": "python3",
      "display_name": "Python 3"
    },
    "language_info": {
      "name": "python"
    },
    "accelerator": "GPU"
  },
  "cells": [
    {
      "cell_type": "markdown",
      "metadata": {
        "id": "view-in-github",
        "colab_type": "text"
      },
      "source": [
        "<a href=\"https://colab.research.google.com/github/atik666/AugmmentationCode/blob/TransferLearning/res50.ipynb\" target=\"_parent\"><img src=\"https://colab.research.google.com/assets/colab-badge.svg\" alt=\"Open In Colab\"/></a>"
      ]
    },
    {
      "cell_type": "code",
      "metadata": {
        "colab": {
          "base_uri": "https://localhost:8080/"
        },
        "id": "VATRso8GX7RF",
        "outputId": "e3710ba2-80c7-430d-fc0c-fac6b91aa530"
      },
      "source": [
        "from google.colab import drive\n",
        "drive.mount('/content/drive')"
      ],
      "execution_count": 3,
      "outputs": [
        {
          "output_type": "stream",
          "text": [
            "Drive already mounted at /content/drive; to attempt to forcibly remount, call drive.mount(\"/content/drive\", force_remount=True).\n"
          ],
          "name": "stdout"
        }
      ]
    },
    {
      "cell_type": "code",
      "metadata": {
        "id": "z7UMvSTSHwZS"
      },
      "source": [
        "from tensorflow import keras\n",
        "from keras.preprocessing.image import load_img, ImageDataGenerator, img_to_array\n",
        "import tensorflow as tf\n",
        "import tensorflow_hub as hub\n",
        "from tensorflow.keras.callbacks import EarlyStopping,ModelCheckpoint\n",
        "from matplotlib import pyplot as plt"
      ],
      "execution_count": 4,
      "outputs": []
    },
    {
      "cell_type": "code",
      "metadata": {
        "colab": {
          "base_uri": "https://localhost:8080/"
        },
        "id": "pLnmCnpMGDrC",
        "outputId": "277171d5-f3b1-4589-8b6e-d125674f47a6"
      },
      "source": [
        "from google.colab import drive\n",
        "drive.mount(\"/content/drive\") "
      ],
      "execution_count": 5,
      "outputs": [
        {
          "output_type": "stream",
          "text": [
            "Drive already mounted at /content/drive; to attempt to forcibly remount, call drive.mount(\"/content/drive\", force_remount=True).\n"
          ],
          "name": "stdout"
        }
      ]
    },
    {
      "cell_type": "code",
      "metadata": {
        "id": "Rr8OSswcrrnj"
      },
      "source": [
        "import numpy as np\n",
        "X_train1 = np.load(\"/content/drive/MyDrive/Colab/X_train1.npy\")\n",
        "y_train1 = np.load(\"/content/drive/MyDrive/Colab/y_train1.npy\")\n",
        "X_val = np.load(\"/content/drive/MyDrive/Colab/X_val.npy\")\n",
        "y_val = np.load(\"/content/drive/MyDrive/Colab/y_val.npy\")\n",
        "X_test = np.load(\"/content/drive/MyDrive/Colab/X_test.npy\")\n",
        "y_test = np.load(\"/content/drive/MyDrive/Colab/y_test.npy\")"
      ],
      "execution_count": 6,
      "outputs": []
    },
    {
      "cell_type": "code",
      "metadata": {
        "id": "bzasKV5_Hcvc"
      },
      "source": [
        "datagen = ImageDataGenerator(\n",
        "    horizontal_flip = True,\n",
        "    vertical_flip = True,\n",
        "    width_shift_range=0.5,\n",
        "    height_shift_range=0.5,\n",
        "    rotation_range=90,\n",
        "    brightness_range=[0.5,1.5],\n",
        "    zoom_range=0.5,\n",
        "    shear_range=45) # Aug condition\n",
        "datagen.fit(X_train1)\n"
      ],
      "execution_count": 8,
      "outputs": []
    },
    {
      "cell_type": "code",
      "metadata": {
        "id": "db9GzJdkH5r2"
      },
      "source": [
        "aug_data = []\n",
        "aug_label = []\n",
        "num_aug = 0\n",
        "for X_batch, y_batch in datagen.flow(X_train1, y_train1, batch_size=100, shuffle=False):\n",
        "    aug_data.append(X_batch)\n",
        "    aug_label.append(y_batch)\n",
        "    num_aug += 100\n",
        "    if num_aug == 1*X_train1.shape[0]:\n",
        "        break\n",
        "X_train2 = np.concatenate(aug_data) \n",
        "y_train2 = np.concatenate(aug_label)\n",
        "\n",
        "X_train = np.concatenate((X_train1, X_train2))\n",
        "y_train = np.concatenate((y_train1, y_train2))"
      ],
      "execution_count": 9,
      "outputs": []
    },
    {
      "cell_type": "code",
      "metadata": {
        "id": "9ieap7n-3Yfv",
        "colab": {
          "base_uri": "https://localhost:8080/"
        },
        "outputId": "d9b66a87-3eb6-4356-eff1-5f8f9d529366"
      },
      "source": [
        "print('Number of images in X_train', X_train.shape[0])\n",
        "print('Number of images in X_val', X_val.shape[0])\n",
        "print('Number of images in X_test', X_test.shape[0])"
      ],
      "execution_count": 7,
      "outputs": [
        {
          "output_type": "stream",
          "text": [
            "Number of images in X_train1 1000\n",
            "Number of images in X_val 500\n",
            "Number of images in X_test 500\n"
          ],
          "name": "stdout"
        }
      ]
    },
    {
      "cell_type": "code",
      "metadata": {
        "id": "tF00NKSwH6yt"
      },
      "source": [
        "IMAGE_SHAPE = (224, 224, 3)\n",
        "      \n",
        "model_name = \"mobilenet_v2\"\n",
        "feature_extractor_model=\"https://tfhub.dev/google/tf2-preview/%s/feature_vector/4\" %model_name\n",
        "\n",
        "pretrained_model_without_top_layer = hub.KerasLayer(\n",
        "    feature_extractor_model, input_shape=IMAGE_SHAPE, trainable=False)\n",
        "       \n",
        "num_class = 10"
      ],
      "execution_count": 10,
      "outputs": []
    },
    {
      "cell_type": "code",
      "metadata": {
        "colab": {
          "base_uri": "https://localhost:8080/",
          "height": 1000
        },
        "id": "CPZDRSDRITaW",
        "outputId": "df0a14b9-89b5-4680-a225-347d1c54b3d7"
      },
      "source": [
        "model = tf.keras.Sequential([\n",
        "  pretrained_model_without_top_layer,\n",
        "  tf.keras.layers.Dense(num_class)\n",
        "])\n",
        "\n",
        "model.summary()          \n",
        "         \n",
        "model.compile(\n",
        "  optimizer=\"adam\",\n",
        "  loss=tf.keras.losses.SparseCategoricalCrossentropy(from_logits=True),\n",
        "  metrics=['accuracy'])\n",
        "     \n",
        "# Train your model using the early stopping callback\n",
        "h_callback = model.fit(X_train, y_train, batch_size = 32,\n",
        "           epochs = 50, validation_data = (X_val, y_val))\n",
        "\n",
        "loss, acc= model.evaluate(X_test, y_test)\n",
        "print('Test Accuracy: %f' % (acc*100))\n",
        "\n",
        "def plot_loss(loss,val_loss):\n",
        "  plt.figure()\n",
        "  plt.plot(loss)\n",
        "  plt.plot(val_loss)\n",
        "  plt.title('Model loss')\n",
        "  plt.ylabel('Loss')\n",
        "  plt.xlabel('Epoch')\n",
        "  plt.legend(['Train', 'Validation'], loc='upper right')\n",
        "  plt.show()\n",
        "  \n",
        "def plot_accuracy(acc,val_acc):\n",
        "  # Plot training & validation accuracy values\n",
        "  plt.figure()\n",
        "  plt.plot(acc)\n",
        "  plt.plot(val_acc)\n",
        "  plt.title('Model accuracy')\n",
        "  plt.ylabel('Accuracy')\n",
        "  plt.xlabel('Epoch')\n",
        "  plt.legend(['Train', 'Validation'], loc='lower right')\n",
        "  plt.show()\n",
        "  \n",
        "# Plot train vs test loss during training\n",
        "plot_loss(h_callback.history['loss'], h_callback.history['val_loss'])\n",
        "\n",
        "# Plot train vs test accuracy during training\n",
        "plot_accuracy(h_callback.history['accuracy'], h_callback.history['val_accuracy'])\n",
        "\n",
        "from sklearn.metrics import confusion_matrix\n",
        "y_pred = model.predict(X_test)\n",
        "y_pred = np.argmax(y_pred, axis=1)\n",
        "conf = confusion_matrix(y_test, y_pred)\n",
        "print(conf)\n",
        "print('acc : ', np.trace(conf)/np.sum(conf)*100)"
      ],
      "execution_count": 11,
      "outputs": [
        {
          "output_type": "stream",
          "text": [
            "Model: \"sequential\"\n",
            "_________________________________________________________________\n",
            "Layer (type)                 Output Shape              Param #   \n",
            "=================================================================\n",
            "keras_layer (KerasLayer)     (None, 1280)              2257984   \n",
            "_________________________________________________________________\n",
            "dense (Dense)                (None, 10)                12810     \n",
            "=================================================================\n",
            "Total params: 2,270,794\n",
            "Trainable params: 12,810\n",
            "Non-trainable params: 2,257,984\n",
            "_________________________________________________________________\n",
            "Epoch 1/50\n",
            "63/63 [==============================] - 37s 72ms/step - loss: 1.9560 - accuracy: 0.3565 - val_loss: 0.8521 - val_accuracy: 0.8400\n",
            "Epoch 2/50\n",
            "63/63 [==============================] - 3s 50ms/step - loss: 1.4166 - accuracy: 0.5485 - val_loss: 0.5193 - val_accuracy: 0.9300\n",
            "Epoch 3/50\n",
            "63/63 [==============================] - 3s 50ms/step - loss: 1.2511 - accuracy: 0.5990 - val_loss: 0.3867 - val_accuracy: 0.9540\n",
            "Epoch 4/50\n",
            "63/63 [==============================] - 3s 50ms/step - loss: 1.1229 - accuracy: 0.6395 - val_loss: 0.3177 - val_accuracy: 0.9500\n",
            "Epoch 5/50\n",
            "63/63 [==============================] - 3s 50ms/step - loss: 1.0498 - accuracy: 0.6675 - val_loss: 0.2823 - val_accuracy: 0.9520\n",
            "Epoch 6/50\n",
            "63/63 [==============================] - 3s 50ms/step - loss: 0.9836 - accuracy: 0.6980 - val_loss: 0.2535 - val_accuracy: 0.9520\n",
            "Epoch 7/50\n",
            "63/63 [==============================] - 3s 50ms/step - loss: 0.9350 - accuracy: 0.7025 - val_loss: 0.2314 - val_accuracy: 0.9540\n",
            "Epoch 8/50\n",
            "63/63 [==============================] - 3s 49ms/step - loss: 0.9052 - accuracy: 0.7130 - val_loss: 0.2387 - val_accuracy: 0.9440\n",
            "Epoch 9/50\n",
            "63/63 [==============================] - 3s 50ms/step - loss: 0.8754 - accuracy: 0.7210 - val_loss: 0.1933 - val_accuracy: 0.9660\n",
            "Epoch 10/50\n",
            "63/63 [==============================] - 3s 50ms/step - loss: 0.8316 - accuracy: 0.7390 - val_loss: 0.1789 - val_accuracy: 0.9680\n",
            "Epoch 11/50\n",
            "63/63 [==============================] - 3s 50ms/step - loss: 0.7989 - accuracy: 0.7555 - val_loss: 0.1738 - val_accuracy: 0.9660\n",
            "Epoch 12/50\n",
            "63/63 [==============================] - 3s 50ms/step - loss: 0.7820 - accuracy: 0.7575 - val_loss: 0.1619 - val_accuracy: 0.9720\n",
            "Epoch 13/50\n",
            "63/63 [==============================] - 3s 50ms/step - loss: 0.7431 - accuracy: 0.7860 - val_loss: 0.1505 - val_accuracy: 0.9680\n",
            "Epoch 14/50\n",
            "63/63 [==============================] - 3s 50ms/step - loss: 0.7189 - accuracy: 0.7850 - val_loss: 0.1449 - val_accuracy: 0.9720\n",
            "Epoch 15/50\n",
            "63/63 [==============================] - 3s 50ms/step - loss: 0.6960 - accuracy: 0.7945 - val_loss: 0.1408 - val_accuracy: 0.9740\n",
            "Epoch 16/50\n",
            "63/63 [==============================] - 3s 50ms/step - loss: 0.6785 - accuracy: 0.7985 - val_loss: 0.1351 - val_accuracy: 0.9740\n",
            "Epoch 17/50\n",
            "63/63 [==============================] - 3s 50ms/step - loss: 0.6605 - accuracy: 0.8135 - val_loss: 0.1327 - val_accuracy: 0.9700\n",
            "Epoch 18/50\n",
            "63/63 [==============================] - 3s 50ms/step - loss: 0.6369 - accuracy: 0.8220 - val_loss: 0.1324 - val_accuracy: 0.9700\n",
            "Epoch 19/50\n",
            "63/63 [==============================] - 3s 50ms/step - loss: 0.6294 - accuracy: 0.8225 - val_loss: 0.1384 - val_accuracy: 0.9700\n",
            "Epoch 20/50\n",
            "63/63 [==============================] - 3s 50ms/step - loss: 0.6088 - accuracy: 0.8280 - val_loss: 0.1288 - val_accuracy: 0.9700\n",
            "Epoch 21/50\n",
            "63/63 [==============================] - 3s 50ms/step - loss: 0.5892 - accuracy: 0.8430 - val_loss: 0.1214 - val_accuracy: 0.9700\n",
            "Epoch 22/50\n",
            "63/63 [==============================] - 3s 50ms/step - loss: 0.5811 - accuracy: 0.8505 - val_loss: 0.1195 - val_accuracy: 0.9720\n",
            "Epoch 23/50\n",
            "63/63 [==============================] - 3s 51ms/step - loss: 0.5591 - accuracy: 0.8525 - val_loss: 0.1162 - val_accuracy: 0.9740\n",
            "Epoch 24/50\n",
            "63/63 [==============================] - 3s 51ms/step - loss: 0.5476 - accuracy: 0.8540 - val_loss: 0.1068 - val_accuracy: 0.9760\n",
            "Epoch 25/50\n",
            "63/63 [==============================] - 3s 50ms/step - loss: 0.5280 - accuracy: 0.8730 - val_loss: 0.1136 - val_accuracy: 0.9680\n",
            "Epoch 26/50\n",
            "63/63 [==============================] - 3s 50ms/step - loss: 0.5244 - accuracy: 0.8615 - val_loss: 0.1068 - val_accuracy: 0.9680\n",
            "Epoch 27/50\n",
            "63/63 [==============================] - 3s 51ms/step - loss: 0.5122 - accuracy: 0.8690 - val_loss: 0.1051 - val_accuracy: 0.9740\n",
            "Epoch 28/50\n",
            "63/63 [==============================] - 3s 51ms/step - loss: 0.4930 - accuracy: 0.8840 - val_loss: 0.1032 - val_accuracy: 0.9700\n",
            "Epoch 29/50\n",
            "63/63 [==============================] - 3s 50ms/step - loss: 0.4859 - accuracy: 0.8800 - val_loss: 0.0982 - val_accuracy: 0.9740\n",
            "Epoch 30/50\n",
            "63/63 [==============================] - 3s 50ms/step - loss: 0.4712 - accuracy: 0.8815 - val_loss: 0.1065 - val_accuracy: 0.9700\n",
            "Epoch 31/50\n",
            "63/63 [==============================] - 3s 51ms/step - loss: 0.4657 - accuracy: 0.8865 - val_loss: 0.0981 - val_accuracy: 0.9720\n",
            "Epoch 32/50\n",
            "63/63 [==============================] - 3s 50ms/step - loss: 0.4578 - accuracy: 0.8880 - val_loss: 0.0959 - val_accuracy: 0.9740\n",
            "Epoch 33/50\n",
            "63/63 [==============================] - 3s 50ms/step - loss: 0.4445 - accuracy: 0.8990 - val_loss: 0.0953 - val_accuracy: 0.9760\n",
            "Epoch 34/50\n",
            "63/63 [==============================] - 3s 51ms/step - loss: 0.4340 - accuracy: 0.8975 - val_loss: 0.0894 - val_accuracy: 0.9760\n",
            "Epoch 35/50\n",
            "63/63 [==============================] - 3s 51ms/step - loss: 0.4239 - accuracy: 0.9080 - val_loss: 0.0970 - val_accuracy: 0.9740\n",
            "Epoch 36/50\n",
            "63/63 [==============================] - 3s 50ms/step - loss: 0.4090 - accuracy: 0.9105 - val_loss: 0.0909 - val_accuracy: 0.9680\n",
            "Epoch 37/50\n",
            "63/63 [==============================] - 3s 50ms/step - loss: 0.4042 - accuracy: 0.9150 - val_loss: 0.0943 - val_accuracy: 0.9740\n",
            "Epoch 38/50\n",
            "63/63 [==============================] - 3s 50ms/step - loss: 0.3954 - accuracy: 0.9175 - val_loss: 0.0869 - val_accuracy: 0.9760\n",
            "Epoch 39/50\n",
            "63/63 [==============================] - 3s 51ms/step - loss: 0.3858 - accuracy: 0.9240 - val_loss: 0.0866 - val_accuracy: 0.9740\n",
            "Epoch 40/50\n",
            "63/63 [==============================] - 3s 50ms/step - loss: 0.3857 - accuracy: 0.9200 - val_loss: 0.0829 - val_accuracy: 0.9780\n",
            "Epoch 41/50\n",
            "63/63 [==============================] - 3s 50ms/step - loss: 0.3764 - accuracy: 0.9195 - val_loss: 0.0818 - val_accuracy: 0.9760\n",
            "Epoch 42/50\n",
            "63/63 [==============================] - 3s 50ms/step - loss: 0.3655 - accuracy: 0.9275 - val_loss: 0.0880 - val_accuracy: 0.9760\n",
            "Epoch 43/50\n",
            "63/63 [==============================] - 3s 50ms/step - loss: 0.3564 - accuracy: 0.9390 - val_loss: 0.0844 - val_accuracy: 0.9760\n",
            "Epoch 44/50\n",
            "63/63 [==============================] - 3s 49ms/step - loss: 0.3519 - accuracy: 0.9305 - val_loss: 0.0829 - val_accuracy: 0.9720\n",
            "Epoch 45/50\n",
            "63/63 [==============================] - 3s 50ms/step - loss: 0.3406 - accuracy: 0.9345 - val_loss: 0.0829 - val_accuracy: 0.9760\n",
            "Epoch 46/50\n",
            "63/63 [==============================] - 3s 50ms/step - loss: 0.3368 - accuracy: 0.9385 - val_loss: 0.0785 - val_accuracy: 0.9740\n",
            "Epoch 47/50\n",
            "63/63 [==============================] - 3s 50ms/step - loss: 0.3278 - accuracy: 0.9485 - val_loss: 0.0821 - val_accuracy: 0.9760\n",
            "Epoch 48/50\n",
            "63/63 [==============================] - 3s 50ms/step - loss: 0.3215 - accuracy: 0.9435 - val_loss: 0.0917 - val_accuracy: 0.9740\n",
            "Epoch 49/50\n",
            "63/63 [==============================] - 3s 50ms/step - loss: 0.3129 - accuracy: 0.9460 - val_loss: 0.0796 - val_accuracy: 0.9720\n",
            "Epoch 50/50\n",
            "63/63 [==============================] - 3s 50ms/step - loss: 0.3114 - accuracy: 0.9500 - val_loss: 0.0790 - val_accuracy: 0.9720\n",
            "16/16 [==============================] - 1s 43ms/step - loss: 0.0632 - accuracy: 0.9800\n",
            "Test Accuracy: 98.000002\n"
          ],
          "name": "stdout"
        },
        {
          "output_type": "display_data",
          "data": {
            "image/png": "[encoded data removed]",
            "text/plain": [
              "<Figure size 432x288 with 1 Axes>"
            ]
          },
          "metadata": {
            "tags": [],
            "needs_background": "light"
          }
        },
        {
          "output_type": "display_data",
          "data": {
            "image/png": "[encoded data removed]",
            "text/plain": [
              "<Figure size 432x288 with 1 Axes>"
            ]
          },
          "metadata": {
            "tags": [],
            "needs_background": "light"
          }
        },
        {
          "output_type": "stream",
          "text": [
            "[[50  0  0  0  0  0  0  0  0  0]\n",
            " [ 0 50  0  0  0  0  0  0  0  0]\n",
            " [ 0  0 49  0  0  0  1  0  0  0]\n",
            " [ 0  0  0 50  0  0  0  0  0  0]\n",
            " [ 0  0  0  0 50  0  0  0  0  0]\n",
            " [ 0  0  0  0  0 48  0  0  0  2]\n",
            " [ 0  0  0  0  0  0 50  0  0  0]\n",
            " [ 0  0  0  0  0  0  0 50  0  0]\n",
            " [ 0  0  0  0  0  0  0  3 46  1]\n",
            " [ 0  0  0  0  0  0  0  2  1 47]]\n",
            "acc :  98.0\n"
          ],
          "name": "stdout"
        }
      ]
    }
  ]
}
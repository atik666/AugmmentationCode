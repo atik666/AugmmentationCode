{
  "nbformat": 4,
  "nbformat_minor": 0,
  "metadata": {
    "colab": {
      "name": "ensembleClassifier.ipynb",
      "provenance": [],
      "collapsed_sections": [],
      "authorship_tag": "ABX9TyMK24DWjBJ6dBZY10EHEPGD",
      "include_colab_link": true
    },
    "kernelspec": {
      "name": "python3",
      "display_name": "Python 3"
    },
    "language_info": {
      "name": "python"
    }
  },
  "cells": [
    {
      "cell_type": "markdown",
      "metadata": {
        "id": "view-in-github",
        "colab_type": "text"
      },
      "source": [
        "<a href=\"https://colab.research.google.com/github/atik666/AugmmentationCode/blob/TransferLearning/ensembleClassifier.ipynb\" target=\"_parent\"><img src=\"https://colab.research.google.com/assets/colab-badge.svg\" alt=\"Open In Colab\"/></a>"
      ]
    },
    {
      "cell_type": "code",
      "metadata": {
        "id": "J0llpL9VBzZm"
      },
      "source": [
        "from google.colab import drive\n",
        "drive.mount('/content/drive')"
      ],
      "execution_count": null,
      "outputs": []
    },
    {
      "cell_type": "code",
      "metadata": {
        "id": "zCnagg5kB2kV"
      },
      "source": [
        "from tensorflow import keras\n",
        "from keras.preprocessing.image import load_img, ImageDataGenerator, img_to_array\n",
        "import tensorflow as tf\n",
        "import tensorflow_hub as hub\n",
        "from tensorflow.keras.callbacks import EarlyStopping,ModelCheckpoint\n",
        "from matplotlib import pyplot as plt\n",
        "import numpy as np"
      ],
      "execution_count": null,
      "outputs": []
    },
    {
      "cell_type": "code",
      "metadata": {
        "id": "0d8a2m0JB33T"
      },
      "source": [
        "X_train1 = np.load(\"/content/drive/MyDrive/Colab/Main/X_train1.npy\")\n",
        "y_train1 = np.load(\"/content/drive/MyDrive/Colab/Main/y_train1.npy\")\n",
        "X_val = np.load(\"/content/drive/MyDrive/Colab/Main/X_val.npy\")\n",
        "y_val = np.load(\"/content/drive/MyDrive/Colab/Main/y_val.npy\")\n",
        "X_test = np.load(\"/content/drive/MyDrive/Colab/Main/X_test.npy\")\n",
        "y_test = np.load(\"/content/drive/MyDrive/Colab/Main/y_test.npy\")\n",
        "\n",
        "X_aug = np.load(\"/content/drive/MyDrive/Colab/Aug/X_aug1.npy\")\n",
        "y_aug = np.load(\"/content/drive/MyDrive/Colab/Aug/y_aug1.npy\")"
      ],
      "execution_count": null,
      "outputs": []
    },
    {
      "cell_type": "code",
      "metadata": {
        "id": "G9AMlOGJC6bF"
      },
      "source": [
        "X_train = np.concatenate((X_train1, X_aug))\n",
        "y_train = np.concatenate((y_train1, y_aug))\n",
        "print('Number of images in X_train', X_train.shape[0])\n",
        "print('Number of images in X_val', X_val.shape[0])\n",
        "print('Number of images in X_test', X_test.shape[0])"
      ],
      "execution_count": null,
      "outputs": []
    },
    {
      "cell_type": "code",
      "metadata": {
        "id": "T4NoLbFEDV1T"
      },
      "source": [
        "IMAGE_SHAPE = (224, 224, 3)\n",
        "      \n",
        "model_name = \"inception_v3\"\n",
        "feature_extractor_model=\"https://tfhub.dev/google/tf2-preview/%s/feature_vector/4\" %model_name\n",
        "\n",
        "pretrained_model_without_top_layer = hub.KerasLayer(\n",
        "    feature_extractor_model, input_shape=IMAGE_SHAPE, trainable=False)\n",
        "       \n",
        "num_class = 10"
      ],
      "execution_count": null,
      "outputs": []
    },
    {
      "cell_type": "code",
      "metadata": {
        "id": "kewUJs5gDadT"
      },
      "source": [
        "model = tf.keras.Sequential([\n",
        "  pretrained_model_without_top_layer,\n",
        "  tf.keras.layers.Dense(num_class)\n",
        "])\n",
        "\n",
        "model.summary()          \n",
        "         \n",
        "model.compile(\n",
        "  optimizer=\"adam\",\n",
        "  loss=tf.keras.losses.SparseCategoricalCrossentropy(from_logits=True),\n",
        "  metrics=['accuracy'])\n",
        "     \n",
        "# Train your model using the early stopping callback\n",
        "h_callback = model.fit(X_train, y_train, batch_size = 32,\n",
        "           epochs = 50, validation_data = (X_val, y_val))\n",
        "\n",
        "loss, acc= model.evaluate(X_test, y_test)\n",
        "print('Test Accuracy: %f' % (acc*100))\n",
        "\n",
        "def plot_loss(loss,val_loss):\n",
        "  plt.figure()\n",
        "  plt.plot(loss)\n",
        "  plt.plot(val_loss)\n",
        "  plt.title('Model loss')\n",
        "  plt.ylabel('Loss')\n",
        "  plt.xlabel('Epoch')\n",
        "  plt.legend(['Train', 'Validation'], loc='upper right')\n",
        "  plt.show()\n",
        "  \n",
        "def plot_accuracy(acc,val_acc):\n",
        "  # Plot training & validation accuracy values\n",
        "  plt.figure()\n",
        "  plt.plot(acc)\n",
        "  plt.plot(val_acc)\n",
        "  plt.title('Model accuracy')\n",
        "  plt.ylabel('Accuracy')\n",
        "  plt.xlabel('Epoch')\n",
        "  plt.legend(['Train', 'Validation'], loc='lower right')\n",
        "  plt.show()\n",
        "  \n",
        "# Plot train vs test loss during training\n",
        "plot_loss(h_callback.history['loss'], h_callback.history['val_loss'])\n",
        "\n",
        "# Plot train vs test accuracy during training\n",
        "plot_accuracy(h_callback.history['accuracy'], h_callback.history['val_accuracy'])\n",
        "\n",
        "from sklearn.metrics import confusion_matrix\n",
        "y_pred = model.predict(X_test)\n",
        "y_pred = np.argmax(y_pred, axis=1)\n",
        "conf = confusion_matrix(y_test, y_pred)\n",
        "print(conf)\n",
        "print('acc : ', np.trace(conf)/np.sum(conf)*100)"
      ],
      "execution_count": null,
      "outputs": []
    }
  ]
}